{
 "cells": [
  {
   "cell_type": "markdown",
   "id": "d3df79dd",
   "metadata": {},
   "source": [
    "## Упражнения по библиотеке Numpy"
   ]
  },
  {
   "cell_type": "code",
   "execution_count": 1,
   "id": "76b9c43b",
   "metadata": {},
   "outputs": [],
   "source": [
    "import numpy as np"
   ]
  },
  {
   "cell_type": "markdown",
   "id": "03727b7c",
   "metadata": {},
   "source": [
    "**1.** Дан случайный массив, поменять знак у элементов, значения которых между 3 и 8"
   ]
  },
  {
   "cell_type": "code",
   "execution_count": 7,
   "id": "b89a7523",
   "metadata": {},
   "outputs": [
    {
     "data": {
      "text/plain": [
       "array([15, -4, 13, 15, 17, 13,  3, 13,  0, -6])"
      ]
     },
     "execution_count": 7,
     "metadata": {},
     "output_type": "execute_result"
    }
   ],
   "source": [
    "arr = np.random.randint(0, 20, size=10)\n",
    "arr[(arr > 3) & (arr < 8)] *= -1\n",
    "arr"
   ]
  },
  {
   "cell_type": "markdown",
   "id": "5fa4abda",
   "metadata": {},
   "source": [
    "**2.** Заменить максимальный элемент случайного массива на 0"
   ]
  },
  {
   "cell_type": "code",
   "execution_count": 8,
   "id": "f2788a6e",
   "metadata": {},
   "outputs": [
    {
     "data": {
      "text/plain": [
       "array([ 8,  5, 11,  5,  0, 18,  1,  6, 12,  7])"
      ]
     },
     "execution_count": 8,
     "metadata": {},
     "output_type": "execute_result"
    }
   ],
   "source": [
    "arr = np.random.randint(0, 20, size=10)\n",
    "arr[np.argmax(arr)] = 0\n",
    "arr"
   ]
  },
  {
   "cell_type": "markdown",
   "id": "3cac656b",
   "metadata": {},
   "source": [
    "**3.** Построить прямое произведение массивов (все комбинации с каждым элементом). На вход подается двумерный массив"
   ]
  },
  {
   "cell_type": "code",
   "execution_count": 9,
   "id": "3396b764",
   "metadata": {},
   "outputs": [
    {
     "data": {
      "text/plain": [
       "array([[1, 3, 5],\n",
       "       [1, 4, 5],\n",
       "       [2, 3, 5],\n",
       "       [2, 4, 5],\n",
       "       [1, 3, 6],\n",
       "       [1, 4, 6],\n",
       "       [2, 3, 6],\n",
       "       [2, 4, 6]])"
      ]
     },
     "execution_count": 9,
     "metadata": {},
     "output_type": "execute_result"
    }
   ],
   "source": [
    "arrays = np.array([[1, 2], [3, 4], [5, 6]])\n",
    "\n",
    "result = np.array(np.meshgrid(*arrays)).T.reshape(-1, len(arrays))\n",
    "result\n"
   ]
  },
  {
   "cell_type": "markdown",
   "id": "674c9354",
   "metadata": {},
   "source": [
    "**4.** Даны 2 массива A (8x3) и B (2x2). Найти строки в A, которые содержат элементы из каждой строки в B, независимо от порядка элементов в B"
   ]
  },
  {
   "cell_type": "code",
   "execution_count": 22,
   "id": "cb664782",
   "metadata": {},
   "outputs": [
    {
     "name": "stdout",
     "output_type": "stream",
     "text": [
      "[0, 3, 4, 5, 6]\n"
     ]
    }
   ],
   "source": [
    "A = np.array([[4, 1, 3],\n",
    "              [7, 8, 1],\n",
    "              [3, 2, 0],\n",
    "              [4, 3, 1],\n",
    "              [2, 3, 1],\n",
    "              [6, 4, 3],\n",
    "              [3, 1, 2],\n",
    "              [9, 5, 4]])\n",
    "\n",
    "B = np.array([[1, 2], [3, 4]])\n",
    "\n",
    "def contains_all_elements(row, b_row):\n",
    "    return all(elem in row for elem in b_row)\n",
    "\n",
    "matching_rows = []\n",
    "for i, row in enumerate(A):\n",
    "    if all(any(contains_all_elements(row, b_row) for b_row in B) for b_row in B):\n",
    "        matching_rows.append(i)\n",
    "\n",
    "\n",
    "print(matching_rows)\n"
   ]
  },
  {
   "cell_type": "markdown",
   "id": "fa46533b",
   "metadata": {},
   "source": [
    "**5.** Дана 10x3 матрица, найти строки из неравных значений (например строка [2,2,3] остается, строка [3,3,3] удаляется)"
   ]
  },
  {
   "cell_type": "code",
   "execution_count": 44,
   "id": "fa545b23",
   "metadata": {},
   "outputs": [
    {
     "name": "stdout",
     "output_type": "stream",
     "text": [
      "{0: [4, 1, 3], 1: [1, 1, 1], 2: [3, 2, 0], 3: [4, 3, 1]}\n"
     ]
    }
   ],
   "source": [
    "arr = np.array([[4, 1, 3],\n",
    "                   [1, 1, 1],\n",
    "                   [3, 2, 0],\n",
    "                   [4, 3, 1]])\n",
    "dic  = {}\n",
    "for idx, row in enumerate(arr):\n",
    "    dic[idx] = row.tolist()\n",
    "\n",
    "\n",
    "result = []\n",
    "\n",
    "for key, value in dic.items():\n",
    "    if value and len(set(value)) > 1:\n",
    "        result.append(value) \n",
    "\n",
    "result_array = np.array(result)\n",
    "\n",
    "print(dic)"
   ]
  },
  {
   "cell_type": "markdown",
   "id": "28f0d116",
   "metadata": {},
   "source": [
    "**6.** Дан двумерный массив. Удалить те строки, которые повторяются"
   ]
  },
  {
   "cell_type": "code",
   "execution_count": 48,
   "id": "83d2c0b7",
   "metadata": {},
   "outputs": [
    {
     "data": {
      "text/plain": [
       "array([[4, 1, 3],\n",
       "       [1, 1, 1],\n",
       "       [4, 3, 1]])"
      ]
     },
     "execution_count": 48,
     "metadata": {},
     "output_type": "execute_result"
    }
   ],
   "source": [
    "arr = np.array([[4, 1, 3],\n",
    "                   [1, 1, 1],\n",
    "                   [1, 1, 1],\n",
    "                   [4, 3, 1]])\n",
    "dic  = {}\n",
    "for idx, row in enumerate(arr):\n",
    "    dic[idx] = row.tolist()\n",
    "\n",
    "\n",
    "result = []\n",
    "\n",
    "for key, value in dic.items():\n",
    "        if value not in result:\n",
    "            result.append(value) \n",
    "\n",
    "result_array = np.array(result)\n",
    "\n",
    "result_array\n"
   ]
  },
  {
   "cell_type": "markdown",
   "id": "6daa9e37",
   "metadata": {},
   "source": [
    "______\n",
    "______"
   ]
  },
  {
   "cell_type": "markdown",
   "id": "cfbfcaff",
   "metadata": {},
   "source": [
    "Для каждой из следующих задач (1-5) нужно привести 2 реализации – одна без использования numpy (cчитайте, что там, где на входе или выходе должны быть numpy array, будут просто списки), а вторая полностью векторизованная с использованием numpy (без использования питоновских циклов/map/list comprehension).\n",
    "\n",
    "\n",
    "__Замечание 1.__ Можно считать, что все указанные объекты непустые (к примеру, в __задаче 1__ на диагонали матрицы есть ненулевые элементы).\n",
    "\n",
    "__Замечание 2.__ Для большинства задач решение занимает не больше 1-2 строк."
   ]
  },
  {
   "cell_type": "markdown",
   "id": "673cac7f",
   "metadata": {},
   "source": [
    "___"
   ]
  },
  {
   "cell_type": "markdown",
   "id": "ca6f585e",
   "metadata": {},
   "source": [
    "* __Задача 1__: Подсчитать произведение ненулевых элементов на диагонали прямоугольной матрицы.  \n",
    " Например, для X = np.array([[1, 0, 1], [2, 0, 2], [3, 0, 3], [4, 4, 4]]) ответ 3."
   ]
  },
  {
   "cell_type": "code",
   "execution_count": 54,
   "id": "065862fc",
   "metadata": {},
   "outputs": [
    {
     "name": "stdout",
     "output_type": "stream",
     "text": [
      "Произведение ненулевых элементов на диагонали: 3\n"
     ]
    }
   ],
   "source": [
    "#1вариант\n",
    "X = np.array([[1, 0, 1], \n",
    "              [2, 0, 2], \n",
    "              [3, 0, 3],\n",
    "               [4,4,4] ])\n",
    "\n",
    "result = np.prod(np.diag(X)[np.diag(X)!=0]  )\n",
    "result\n",
    "\n",
    "#2\n",
    "X = [[1, 0, 1], \n",
    "    [2, 0, 2], \n",
    "    [3, 0, 3],\n",
    "    [4, 4, 4] ]\n",
    "product = 1\n",
    "found_non_zero = False  \n",
    "\n",
    "rows = len(X)\n",
    "cols = len(X[0])\n",
    "\n",
    "\n",
    "for i in range(min(rows, cols)):\n",
    "    if X[i][i] != 0:  \n",
    "        product *= X[i][i]  \n",
    "        found_non_zero = True\n",
    "\n",
    "if not found_non_zero:\n",
    "    product = 0\n",
    "\n",
    "print(product)\n",
    "\n",
    "\n",
    "\n"
   ]
  },
  {
   "cell_type": "markdown",
   "id": "9fc51d41",
   "metadata": {},
   "source": [
    "* __Задача 2__: Даны два вектора x и y. Проверить, задают ли они одно и то же мультимножество.  \n",
    "  Например, для x = np.array([1, 2, 2, 4]), y = np.array([4, 2, 1, 2]) ответ True."
   ]
  },
  {
   "cell_type": "code",
   "execution_count": 56,
   "id": "a809e02f",
   "metadata": {},
   "outputs": [
    {
     "name": "stdout",
     "output_type": "stream",
     "text": [
      "Задают ли векторы одно и то же мультимножество: True\n"
     ]
    }
   ],
   "source": [
    "\n",
    "x = np.array([1, 2, 2, 4])\n",
    "y = np.array([4, 2, 1, 2])\n",
    "\n",
    "unique_x, counts_x = np.unique(x, return_counts=True)\n",
    "unique_y, counts_y = np.unique(y, return_counts=True)\n",
    "\n",
    "are_equal = np.array_equal(unique_x, unique_y) and np.array_equal(counts_x, counts_y)\n",
    "\n",
    "print( are_equal)"
   ]
  },
  {
   "cell_type": "markdown",
   "id": "b9c185c7",
   "metadata": {},
   "source": [
    "* __Задача 3__: Найти максимальный элемент в векторе x среди элементов, перед которыми стоит ноль. \n",
    " Например, для x = np.array([6, 2, 0, 3, 0, 0, 5, 7, 0]) ответ 5."
   ]
  },
  {
   "cell_type": "code",
   "execution_count": 60,
   "id": "b57df008",
   "metadata": {},
   "outputs": [
    {
     "name": "stdout",
     "output_type": "stream",
     "text": [
      "5\n"
     ]
    }
   ],
   "source": [
    "x = np.array([6, 2, 0, 3, 0, 0, 5, 7, 0])\n",
    "\n",
    "zero = x==0\n",
    "print (x[1:][zero[:-1]].max())"
   ]
  },
  {
   "cell_type": "markdown",
   "id": "480be4ce",
   "metadata": {},
   "source": [
    "* __Задача 4__: Реализовать кодирование длин серий (Run-length encoding). Для некоторого вектора x необходимо вернуть кортеж из двух векторов одинаковой длины. Первый содержит числа, а второй - сколько раз их нужно повторить.  \n",
    " Например, для x = np.array([2, 2, 2, 3, 3, 3, 5]) ответ (np.array([2, 3, 5]), np.array([3, 3, 1]))."
   ]
  },
  {
   "cell_type": "code",
   "execution_count": 62,
   "id": "3c592124",
   "metadata": {},
   "outputs": [
    {
     "data": {
      "text/plain": [
       "array([1, 3, 1, 1, 1])"
      ]
     },
     "execution_count": 62,
     "metadata": {},
     "output_type": "execute_result"
    }
   ],
   "source": [
    "\n",
    "arr = np.array([1, 2, 2, 3, 4, 2, 5])\n",
    "unique_elements, counts = np.unique(arr, return_counts=True)\n",
    "\n"
   ]
  },
  {
   "cell_type": "markdown",
   "id": "077532ec",
   "metadata": {},
   "source": [
    "* __Задача 5__: Даны две выборки объектов - X и Y. Вычислить матрицу евклидовых расстояний между объектами. Сравните с функцией scipy.spatial.distance.cdist по скорости работы."
   ]
  },
  {
   "cell_type": "code",
   "execution_count": 66,
   "id": "1e807797",
   "metadata": {},
   "outputs": [
    {
     "data": {
      "text/plain": [
       "array([[1.08473649, 1.12441745, 1.1444759 , ..., 1.07809765, 1.04147479,\n",
       "        0.58848188],\n",
       "       [0.94129786, 0.83218264, 0.81100109, ..., 0.70204721, 0.75905901,\n",
       "        0.57046822],\n",
       "       [1.1472336 , 1.043064  , 0.85193251, ..., 0.8333967 , 0.96069878,\n",
       "        0.69998208],\n",
       "       ...,\n",
       "       [0.78163743, 0.80132627, 0.86941861, ..., 0.81562375, 0.73666688,\n",
       "        0.53597011],\n",
       "       [0.99786806, 0.87280144, 0.85029936, ..., 0.90935988, 0.66620604,\n",
       "        1.00035407],\n",
       "       [0.8105148 , 0.96778613, 1.09760648, ..., 0.97282774, 0.93037037,\n",
       "        0.59133751]])"
      ]
     },
     "execution_count": 66,
     "metadata": {},
     "output_type": "execute_result"
    }
   ],
   "source": [
    "import time\n",
    "\n",
    "def euclidean_distance(X, Y):\n",
    "    return np.sqrt(np.sum((X[:, np.newaxis, :] - Y[np.newaxis, :, :]) ** 2, axis=-1))\n",
    "\n",
    "X = np.random.rand(100, 5)  \n",
    "Y = np.random.rand(80, 5)   \n",
    "\n",
    "start_time = time.time()\n",
    "distances_np = euclidean_distance(X, Y)\n",
    "np_time = time.time() - start_time\n",
    "\n",
    "distances_np\n"
   ]
  },
  {
   "cell_type": "markdown",
   "id": "973e8064",
   "metadata": {},
   "source": [
    "_______\n",
    "________"
   ]
  },
  {
   "cell_type": "markdown",
   "id": "1104acb7",
   "metadata": {},
   "source": [
    "* #### __Задача 6__: CrunchieMunchies __*__\n",
    "\n",
    "Вы работаете в отделе маркетинга пищевой компании MyCrunch, которая разрабатывает новый вид вкусных, полезных злаков под названием **CrunchieMunchies**.\n",
    "\n",
    "Вы хотите продемонстрировать потребителям, насколько полезны ваши хлопья по сравнению с другими ведущими брендами, поэтому вы собрали данные о питании нескольких разных конкурентов.\n",
    "\n",
    "Ваша задача - использовать вычисления Numpy для анализа этих данных и доказать, что ваши **СrunchieMunchies** - самый здоровый выбор для потребителей.\n"
   ]
  },
  {
   "cell_type": "code",
   "execution_count": 67,
   "id": "10a77f8d",
   "metadata": {},
   "outputs": [],
   "source": [
    "import numpy as np"
   ]
  },
  {
   "cell_type": "markdown",
   "id": "ab87cb03",
   "metadata": {},
   "source": [
    "1. Просмотрите файл cereal.csv. Этот файл содержит количества калорий для различных марок хлопьев. Загрузите данные из файла и сохраните их как calorie_stats."
   ]
  },
  {
   "cell_type": "code",
   "execution_count": 68,
   "id": "9681ebf2",
   "metadata": {},
   "outputs": [
    {
     "data": {
      "text/plain": [
       "array([ 70., 120.,  70.,  50., 110., 110., 110., 130.,  90.,  90., 120.,\n",
       "       110., 120., 110., 110., 110., 100., 110., 110., 110., 100., 110.,\n",
       "       100., 100., 110., 110., 100., 120., 120., 110., 100., 110., 100.,\n",
       "       110., 120., 120., 110., 110., 110., 140., 110., 100., 110., 100.,\n",
       "       150., 150., 160., 100., 120., 140.,  90., 130., 120., 100.,  50.,\n",
       "        50., 100., 100., 120., 100.,  90., 110., 110.,  80.,  90.,  90.,\n",
       "       110., 110.,  90., 110., 140., 100., 110., 110., 100., 100., 110.])"
      ]
     },
     "execution_count": 68,
     "metadata": {},
     "output_type": "execute_result"
    }
   ],
   "source": [
    "calorie_stats = np.loadtxt(\"./data/cereal.csv\", delimiter=\",\")\n",
    "calorie_stats"
   ]
  },
  {
   "cell_type": "markdown",
   "id": "139cfbd8",
   "metadata": {},
   "source": [
    "2. В одной порции CrunchieMunchies содержится 60 калорий. Насколько выше среднее количество калорий у ваших конкурентов?\n",
    "\n",
    "Сохраните ответ в переменной average_calories и распечатайте переменную в терминале"
   ]
  },
  {
   "cell_type": "code",
   "execution_count": 70,
   "id": "7036d240",
   "metadata": {},
   "outputs": [
    {
     "data": {
      "text/plain": [
       "np.float64(106.88311688311688)"
      ]
     },
     "execution_count": 70,
     "metadata": {},
     "output_type": "execute_result"
    }
   ],
   "source": [
    "average_calories = calorie_stats.mean()\n",
    "average_calories"
   ]
  },
  {
   "cell_type": "markdown",
   "id": "b2ddb4cd",
   "metadata": {},
   "source": [
    "3. Корректно ли среднее количество калорий отражает распределение набора данных? Давайте отсортируем данные и посмотрим.\n",
    "\n",
    "Отсортируйте данные и сохраните результат в переменной calorie_stats_sorted. Распечатайте отсортированную информацию"
   ]
  },
  {
   "cell_type": "code",
   "execution_count": 74,
   "id": "46eeb4ed",
   "metadata": {},
   "outputs": [
    {
     "data": {
      "text/plain": [
       "array([ 50.,  50.,  50.,  70.,  70.,  80.,  90.,  90.,  90.,  90.,  90.,\n",
       "        90.,  90., 100., 100., 100., 100., 100., 100., 100., 100., 100.,\n",
       "       100., 100., 100., 100., 100., 100., 100., 100., 110., 110., 110.,\n",
       "       110., 110., 110., 110., 110., 110., 110., 110., 110., 110., 110.,\n",
       "       110., 110., 110., 110., 110., 110., 110., 110., 110., 110., 110.,\n",
       "       110., 110., 110., 110., 120., 120., 120., 120., 120., 120., 120.,\n",
       "       120., 120., 120., 130., 130., 140., 140., 140., 150., 150., 160.])"
      ]
     },
     "execution_count": 74,
     "metadata": {},
     "output_type": "execute_result"
    }
   ],
   "source": [
    "calorie_stats_sorted = np.sort(calorie_stats)\n",
    "calorie_stats_sorted"
   ]
  },
  {
   "cell_type": "markdown",
   "id": "4dc74116",
   "metadata": {},
   "source": [
    "4. Похоже, что большинство значений выше среднего. Давайте посмотрим, является ли медиана наиболее корректным показателем набора данных.\n",
    "\n",
    "Вычислите медиану набора данных и сохраните свой ответ в median_calories. Выведите медиану, чтобы вы могли видеть, как она сравнивается со средним значением."
   ]
  },
  {
   "cell_type": "code",
   "execution_count": 75,
   "id": "b56627c3",
   "metadata": {},
   "outputs": [
    {
     "data": {
      "text/plain": [
       "np.float64(110.0)"
      ]
     },
     "execution_count": 75,
     "metadata": {},
     "output_type": "execute_result"
    }
   ],
   "source": [
    "median_calories = np.median(calorie_stats)\n",
    "median_calories"
   ]
  },
  {
   "cell_type": "markdown",
   "id": "a63ab72f",
   "metadata": {},
   "source": [
    "5. В то время как медиана показывает, что по крайней мере половина наших значений составляет более 100 калорий, было бы более впечатляюще показать, что значительная часть конкурентов имеет более высокое количество калорий, чем CrunchieMunchies.\n",
    "\n",
    "Рассчитайте различные процентили и распечатайте их, пока не найдете наименьший процентиль, превышающий 60 калорий. Сохраните это значение в переменной nth_percentile."
   ]
  },
  {
   "cell_type": "code",
   "execution_count": 76,
   "id": "fe80ce03",
   "metadata": {},
   "outputs": [
    {
     "name": "stdout",
     "output_type": "stream",
     "text": [
      "Наименьший процентиль, превышающий 60 калорий: 70.0 (процентиль 4)\n"
     ]
    }
   ],
   "source": [
    "\n",
    "nth_percentile = None\n",
    "\n",
    "for p in range(101):\n",
    "    percentile_value = np.percentile(calorie_stats, p)\n",
    "    if percentile_value > 60:\n",
    "        nth_percentile = percentile_value\n",
    "        print(f\"Наименьший процентиль, превышающий 60 калорий: {nth_percentile} (процентиль {p})\")\n",
    "        break"
   ]
  },
  {
   "cell_type": "markdown",
   "id": "a2a3c5aa",
   "metadata": {},
   "source": [
    "6. Хотя процентиль показывает нам, что у большинства конкурентов количество калорий намного выше, это неудобная концепция для использования в маркетинговых материалах.\n",
    "\n",
    "Вместо этого давайте подсчитаем процент хлопьев, в которых содержится более 60 калорий на порцию. Сохраните свой ответ в переменной more_calories и распечатайте его"
   ]
  },
  {
   "cell_type": "code",
   "execution_count": 80,
   "id": "ade0f6ea",
   "metadata": {},
   "outputs": [
    {
     "data": {
      "text/plain": [
       "96.1038961038961"
      ]
     },
     "execution_count": 80,
     "metadata": {},
     "output_type": "execute_result"
    }
   ],
   "source": [
    "more_calories = (np.size(calorie_stats[calorie_stats > 60])/np.size(calorie_stats))*100\n",
    "more_calories"
   ]
  },
  {
   "cell_type": "markdown",
   "id": "1735d65b",
   "metadata": {},
   "source": [
    "7. Это действительно высокий процент. Это будет очень полезно, когда мы будем продвигать CrunchieMunchies. Но один вопрос заключается в том, насколько велики различия в наборе данных? Можем ли мы сделать обобщение, что в большинстве злаков содержится около 100 калорий или разброс еще больше?\n",
    "\n",
    "Рассчитайте величину отклонения, найдя стандартное отклонение, Сохраните свой ответ в calorie_std и распечатайте на терминале. Как мы можем включить эту ценность в наш анализ?"
   ]
  },
  {
   "cell_type": "code",
   "execution_count": 81,
   "id": "85c8df1f",
   "metadata": {},
   "outputs": [
    {
     "data": {
      "text/plain": [
       "np.float64(19.35718533390827)"
      ]
     },
     "execution_count": 81,
     "metadata": {},
     "output_type": "execute_result"
    }
   ],
   "source": [
    "calorie_std = np.std(calorie_stats)\n",
    "calorie_std"
   ]
  },
  {
   "cell_type": "markdown",
   "id": "037455c5",
   "metadata": {},
   "source": [
    "8. Напишите короткий абзац, в котором кратко изложите свои выводы и то, как, по вашему мнению, эти данные могут быть использованы в интересах Mycrunch при маркетинге CrunchieMunchies."
   ]
  },
  {
   "cell_type": "markdown",
   "id": "61747d70",
   "metadata": {},
   "source": [
    "Полученные данные говорят о следующем:\n",
    "\n",
    "Большинство конкурентов (96% +) имеют больше калорий, чем CrunchieMunchies\n",
    "Большое стандратное отклонение показывает то, что данные в выборке достаточно сильно разнятся, но, учитывая вышеописанный пункт, этот факт наоборот приобретает положительный окрас, т.к. отклонение в сторону, которая больше среднего по выборке, является недостатком конкурентов.\n",
    "Разница калорийности CrunchieMunchies и медианы по выборке составляет 83% от калорийности CrunchieMunchies, что тоже можно упомянуть в виде преимущества.\n",
    "В целом CrunchieMunchies классные хлопья, но лучше конечно пиво."
   ]
  }
 ],
 "metadata": {
  "kernelspec": {
   "display_name": "Python 3 (ipykernel)",
   "language": "python",
   "name": "python3"
  },
  "language_info": {
   "codemirror_mode": {
    "name": "ipython",
    "version": 3
   },
   "file_extension": ".py",
   "mimetype": "text/x-python",
   "name": "python",
   "nbconvert_exporter": "python",
   "pygments_lexer": "ipython3",
   "version": "3.12.0"
  }
 },
 "nbformat": 4,
 "nbformat_minor": 5
}
